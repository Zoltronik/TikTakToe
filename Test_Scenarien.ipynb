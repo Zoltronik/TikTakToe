{
 "cells": [
  {
   "cell_type": "code",
   "execution_count": 1,
   "id": "3f9810ee",
   "metadata": {},
   "outputs": [],
   "source": [
    "def victory_for(b, sign):\n",
    "    # The function analyzes the board's status in order to check if \n",
    "    # the player using 'O's or 'X's has won the game\n",
    "    v = '0'\n",
    "    if sign == 'O':\n",
    "        m = 'Spieler hat gewonnen !'\n",
    "    else:\n",
    "        m = 'Computer hat gewonnen !'\n",
    "    if b[0] == sign and b[1] == sign and b[2] == sign: v = m # Gewinnabfrage 1\n",
    "    elif b[0] == sign and b[4] == sign and b[8] == sign: v = m # Gewinnabfrage 2\n",
    "    elif b[0] == sign and b[3] == sign and b[6] == sign: v = m # Gewinnabfrage 3\n",
    "    elif b[1] == sign and b[4] == sign and b[7] == sign: v = m # Gewinnabfrage 4\n",
    "    elif b[2] == sign and b[5] == sign and b[8] == sign: v = m # Gewinnabfrage 5\n",
    "    elif b[2] == sign and b[4] == sign and b[6] == sign: v = m # Gewinnabfrage 6\n",
    "    elif b[3] == sign and b[4] == sign and b[5] == sign: v = m # Gewinnabfrage 7\n",
    "    elif b[6] == sign and b[7] == sign and b[8] == sign: v = m # Gewinnabfrage 8\n",
    "    return v"
   ]
  },
  {
   "cell_type": "code",
   "execution_count": 5,
   "id": "5b788a86",
   "metadata": {},
   "outputs": [
    {
     "data": {
      "text/plain": [
       "'0b1100'"
      ]
     },
     "execution_count": 5,
     "metadata": {},
     "output_type": "execute_result"
    }
   ],
   "source": [
    "bin(12)"
   ]
  },
  {
   "cell_type": "code",
   "execution_count": 3,
   "id": "dda2c415",
   "metadata": {},
   "outputs": [
    {
     "name": "stdout",
     "output_type": "stream",
     "text": [
      "Zähler      X : 98\n",
      "Zähler      O : 48\n",
      "Zähler  Beide : 36\n",
      "Zähler Gesamt : 126\n"
     ]
    }
   ],
   "source": [
    "# Test aller Kombinationen für Gewinnermittlung TikTakToe\n",
    "from random import shuffle\n",
    "#l = ['X', 'X', 'X', 'X', 'X', 'O', 'O', 'O', 'O']\n",
    "z1 = z2 = z3 = z4 = 0\n",
    "for i in range(0,512):\n",
    "    b = str(bin(i)).replace('0b','')\n",
    "    c = f'{b:>09}'.replace('0','O').replace('1','X')\n",
    "    if c.count('X') == 5:\n",
    "        z1 += 1\n",
    "        x = victory_for(list(c),'X')\n",
    "        if x != '0': z2 += 1\n",
    "        y = victory_for(list(c),'O')\n",
    "        if y != '0': z3 += 1\n",
    "        if x != '0' and y != '0': z4 += 1\n",
    "print(f'Zähler      X : {z2}')\n",
    "print(f'Zähler      O : {z3}')\n",
    "print(f'Zähler  Beide : {z4}')\n",
    "print(f'Zähler Gesamt : {z1}')\n"
   ]
  },
  {
   "cell_type": "code",
   "execution_count": 2,
   "id": "128013d7",
   "metadata": {},
   "outputs": [
    {
     "name": "stdout",
     "output_type": "stream",
     "text": [
      "['X', 'O', 'X', 'X', 'O', 'O', 'X', 'X', 'O']\n",
      "X | O | X\n",
      "X | O | O\n",
      "X | X | O\n",
      "Computer hat gewonnen !\n",
      "0\n",
      "\n",
      "['X', 'O', 'O', 'X', 'X', 'O', 'O', 'X', 'X']\n",
      "X | O | O\n",
      "X | X | O\n",
      "O | X | X\n",
      "Computer hat gewonnen !\n",
      "0\n",
      "\n",
      "['X', 'X', 'O', 'O', 'O', 'O', 'X', 'X', 'X']\n",
      "X | X | O\n",
      "O | O | O\n",
      "X | X | X\n",
      "Computer hat gewonnen !\n",
      "Spieler hat gewonnen !\n",
      "\n",
      "['O', 'O', 'O', 'X', 'X', 'X', 'X', 'X', 'O']\n",
      "O | O | O\n",
      "X | X | X\n",
      "X | X | O\n",
      "Computer hat gewonnen !\n",
      "Spieler hat gewonnen !\n",
      "\n",
      "['O', 'O', 'X', 'X', 'O', 'X', 'O', 'X', 'X']\n",
      "O | O | X\n",
      "X | O | X\n",
      "O | X | X\n",
      "Computer hat gewonnen !\n",
      "0\n",
      "\n",
      "['O', 'X', 'O', 'O', 'X', 'O', 'X', 'X', 'X']\n",
      "O | X | O\n",
      "O | X | O\n",
      "X | X | X\n",
      "Computer hat gewonnen !\n",
      "0\n",
      "\n",
      "['O', 'O', 'O', 'X', 'X', 'X', 'O', 'X', 'X']\n",
      "O | O | O\n",
      "X | X | X\n",
      "O | X | X\n",
      "Computer hat gewonnen !\n",
      "Spieler hat gewonnen !\n",
      "\n",
      "['X', 'O', 'X', 'X', 'X', 'X', 'O', 'O', 'O']\n",
      "X | O | X\n",
      "X | X | X\n",
      "O | O | O\n",
      "Computer hat gewonnen !\n",
      "Spieler hat gewonnen !\n",
      "\n",
      "['O', 'X', 'X', 'X', 'X', 'O', 'O', 'O', 'X']\n",
      "O | X | X\n",
      "X | X | O\n",
      "O | O | X\n",
      "0\n",
      "0\n",
      "\n"
     ]
    }
   ],
   "source": [
    "# Test zufälliger Kombinationen für Gewinnermittlung TikTakToe\n",
    "from random import shuffle\n",
    "l = ['X', 'X', 'X', 'X', 'X', 'O', 'O', 'O', 'O']\n",
    "for i in range(1,10):\n",
    "    shuffle(l)\n",
    "    print(l)\n",
    "    for j in range(0,7,3):\n",
    "        print(f'{l[j]} | {l[j+1]} | {l[j+2]}')\n",
    "    print(victory_for(l, 'X'))\n",
    "    print(victory_for(l, 'O'))\n",
    "    print()"
   ]
  }
 ],
 "metadata": {
  "kernelspec": {
   "display_name": "Python 3 (ipykernel)",
   "language": "python",
   "name": "python3"
  },
  "language_info": {
   "codemirror_mode": {
    "name": "ipython",
    "version": 3
   },
   "file_extension": ".py",
   "mimetype": "text/x-python",
   "name": "python",
   "nbconvert_exporter": "python",
   "pygments_lexer": "ipython3",
   "version": "3.10.13"
  },
  "toc": {
   "base_numbering": 1,
   "nav_menu": {},
   "number_sections": true,
   "sideBar": true,
   "skip_h1_title": false,
   "title_cell": "Table of Contents",
   "title_sidebar": "Contents",
   "toc_cell": false,
   "toc_position": {},
   "toc_section_display": true,
   "toc_window_display": false
  },
  "varInspector": {
   "cols": {
    "lenName": 16,
    "lenType": 16,
    "lenVar": 40
   },
   "kernels_config": {
    "python": {
     "delete_cmd_postfix": "",
     "delete_cmd_prefix": "del ",
     "library": "var_list.py",
     "varRefreshCmd": "print(var_dic_list())"
    },
    "r": {
     "delete_cmd_postfix": ") ",
     "delete_cmd_prefix": "rm(",
     "library": "var_list.r",
     "varRefreshCmd": "cat(var_dic_list()) "
    }
   },
   "types_to_exclude": [
    "module",
    "function",
    "builtin_function_or_method",
    "instance",
    "_Feature"
   ],
   "window_display": false
  }
 },
 "nbformat": 4,
 "nbformat_minor": 5
}
